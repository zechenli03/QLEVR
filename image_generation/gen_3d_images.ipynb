{
  "nbformat": 4,
  "nbformat_minor": 0,
  "metadata": {
    "accelerator": "GPU",
    "colab": {
      "name": "gen_3d_images.ipynb",
      "provenance": [],
      "collapsed_sections": []
    },
    "kernelspec": {
      "display_name": "Python 3",
      "name": "python3"
    },
    "language_info": {
      "name": "python"
    }
  },
  "cells": [
    {
      "cell_type": "code",
      "metadata": {
        "id": "K0B4MEnbO1vY",
        "colab": {
          "base_uri": "https://localhost:8080/"
        },
        "outputId": "bafb4063-332f-403d-b4c4-fc39ba1992f2"
      },
      "source": [
        "from google.colab import drive\n",
        "drive.mount('/content/drive')"
      ],
      "execution_count": null,
      "outputs": [
        {
          "output_type": "stream",
          "name": "stdout",
          "text": [
            "Mounted at /content/drive\n"
          ]
        }
      ]
    },
    {
      "cell_type": "code",
      "metadata": {
        "colab": {
          "base_uri": "https://localhost:8080/"
        },
        "id": "H498UIKo_Eal",
        "outputId": "787b6c8e-559b-4e9c-8c66-b537be821d95"
      },
      "source": [
        "!nvidia-smi"
      ],
      "execution_count": null,
      "outputs": [
        {
          "output_type": "stream",
          "name": "stdout",
          "text": [
            "Tue Sep 21 11:21:26 2021       \n",
            "+-----------------------------------------------------------------------------+\n",
            "| NVIDIA-SMI 470.63.01    Driver Version: 460.32.03    CUDA Version: 11.2     |\n",
            "|-------------------------------+----------------------+----------------------+\n",
            "| GPU  Name        Persistence-M| Bus-Id        Disp.A | Volatile Uncorr. ECC |\n",
            "| Fan  Temp  Perf  Pwr:Usage/Cap|         Memory-Usage | GPU-Util  Compute M. |\n",
            "|                               |                      |               MIG M. |\n",
            "|===============================+======================+======================|\n",
            "|   0  Tesla K80           Off  | 00000000:00:04.0 Off |                    0 |\n",
            "| N/A   37C    P8    27W / 149W |      0MiB / 11441MiB |      0%      Default |\n",
            "|                               |                      |                  N/A |\n",
            "+-------------------------------+----------------------+----------------------+\n",
            "                                                                               \n",
            "+-----------------------------------------------------------------------------+\n",
            "| Processes:                                                                  |\n",
            "|  GPU   GI   CI        PID   Type   Process name                  GPU Memory |\n",
            "|        ID   ID                                                   Usage      |\n",
            "|=============================================================================|\n",
            "|  No running processes found                                                 |\n",
            "+-----------------------------------------------------------------------------+\n"
          ]
        }
      ]
    },
    {
      "cell_type": "code",
      "metadata": {
        "colab": {
          "base_uri": "https://localhost:8080/"
        },
        "id": "Eefy6qU5QACp",
        "outputId": "e9db768e-464a-483c-8b85-bdb26c29bff6"
      },
      "source": [
        "#Download Blender Zip File (Only need to do once)\n",
        "# !wget -c https://download.blender.org/release/Blender2.93/blender-2.93.4-linux-x64.tar.xz"
      ],
      "execution_count": null,
      "outputs": [
        {
          "name": "stdout",
          "output_type": "stream",
          "text": [
            "--2021-09-03 04:44:58--  https://download.blender.org/release/Blender2.93/blender-2.93.4-linux-x64.tar.xz\n",
            "Resolving download.blender.org (download.blender.org)... 82.94.213.221\n",
            "Connecting to download.blender.org (download.blender.org)|82.94.213.221|:443... connected.\n",
            "HTTP request sent, awaiting response... 200 OK\n",
            "Length: 166925796 (159M) [application/octet-stream]\n",
            "Saving to: ‘blender-2.93.4-linux-x64.tar.xz’\n",
            "\n",
            "blender-2.93.4-linu 100%[===================>] 159.19M  5.01MB/s    in 43s     \n",
            "\n",
            "2021-09-03 04:45:41 (3.74 MB/s) - ‘blender-2.93.4-linux-x64.tar.xz’ saved [166925796/166925796]\n",
            "\n"
          ]
        }
      ]
    },
    {
      "cell_type": "code",
      "metadata": {
        "id": "yyGjKDrCQAK9"
      },
      "source": [
        "#Unzip Blender (Only need to do once)\n",
        "!tar xf blender-2.93.4-linux-x64.tar.xz"
      ],
      "execution_count": null,
      "outputs": []
    },
    {
      "cell_type": "code",
      "metadata": {
        "id": "GrjfMA00QAPH"
      },
      "source": [
        "cd \"./QLEVR/image_generation\""
      ],
      "execution_count": null,
      "outputs": []
    },
    {
      "cell_type": "code",
      "metadata": {
        "id": "zBlxchzLQATO"
      },
      "source": [
        "blender_version = 'blender'"
      ],
      "execution_count": null,
      "outputs": []
    },
    {
      "cell_type": "code",
      "metadata": {
        "colab": {
          "base_uri": "https://localhost:8080/"
        },
        "id": "fNTmj-ez7S9w",
        "outputId": "97853b4e-502f-4132-9665-2ad0492eba74"
      },
      "source": [
        "import os\n",
        "\n",
        "os.environ[\"LD_PRELOAD\"] = \"\"\n",
        "\n",
        "!apt update &> /dev/null\n",
        "!apt remove libtcmalloc-minimal4 &> /dev/null\n",
        "!apt install libtcmalloc-minimal4 &> /dev/null\n",
        "os.environ[\"LD_PRELOAD\"] = \"/usr/lib/x86_64-linux-gnu/libtcmalloc_minimal.so.4.3.0\"\n",
        "\n",
        "!echo $LD_PRELOAD"
      ],
      "execution_count": null,
      "outputs": [
        {
          "output_type": "stream",
          "name": "stdout",
          "text": [
            "/usr/lib/x86_64-linux-gnu/libtcmalloc_minimal.so.4.3.0\n"
          ]
        }
      ]
    },
    {
      "cell_type": "code",
      "metadata": {
        "id": "hnjV1hmkQAXL"
      },
      "source": [
        "!apt install libboost-all-dev &> /dev/null\n",
        "!apt install libgl1-mesa-dev &> /dev/null\n",
        "!apt install libglu1-mesa libsm-dev &> /dev/null\n",
        "!apt update &> /dev/null"
      ],
      "execution_count": null,
      "outputs": []
    },
    {
      "cell_type": "code",
      "metadata": {
        "id": "GjcggwVpbiqx"
      },
      "source": [
        "%cd /content/drive/My Drive/VQA-dataset-gen/image_generation/ \n",
        "!echo $PWD >> blender/2.93/python/lib/python3.9/site-packages/img_gen.pth"
      ],
      "execution_count": null,
      "outputs": []
    },
    {
      "cell_type": "code",
      "metadata": {
        "id": "MstYep_pbiwO",
        "colab": {
          "base_uri": "https://localhost:8080/"
        },
        "outputId": "464f7396-75da-4ad1-e9eb-543bf4b36be8"
      },
      "source": [
        "!sudo ./$blender_version/blender \\\n",
        "--background --python gen_3d.py -- --start_idx 35002 --num_images 1 \\\n",
        "--render_num_samples 512 --render_tile_size 256 \\\n",
        "--width 960 --height 720 \\\n",
        "--split 'train5' \\\n",
        "--use_gpu"
      ],
      "execution_count": null,
      "outputs": [
        {
          "output_type": "stream",
          "name": "stdout",
          "text": [
            "Blender 2.93.4 (hash b7205031cec4 built 2021-08-31 23:43:17)\n",
            "Read blend: ./data/Backdrop.blend\n",
            "camera position index 1\n",
            "Fra:1 Mem:44.78M (Peak 66.83M) | Time:00:00.13 | Mem:0.00M, Peak:0.00M | Scene, View Layer | Synchronizing object | Sphere_0\n",
            "Fra:1 Mem:44.83M (Peak 66.83M) | Time:00:00.14 | Mem:0.00M, Peak:0.00M | Scene, View Layer | Synchronizing object | Sphere_10\n",
            "Fra:1 Mem:44.87M (Peak 66.83M) | Time:00:00.14 | Mem:0.00M, Peak:0.00M | Scene, View Layer | Synchronizing object | Sphere_1\n",
            "Fra:1 Mem:44.91M (Peak 66.83M) | Time:00:00.14 | Mem:0.00M, Peak:0.00M | Scene, View Layer | Synchronizing object | Sphere_9\n",
            "Fra:1 Mem:44.96M (Peak 66.83M) | Time:00:00.14 | Mem:0.00M, Peak:0.00M | Scene, View Layer | Synchronizing object | Sphere_2\n",
            "Fra:1 Mem:45.01M (Peak 66.83M) | Time:00:00.14 | Mem:0.00M, Peak:0.00M | Scene, View Layer | Synchronizing object | Sphere_8\n",
            "Fra:1 Mem:45.05M (Peak 66.83M) | Time:00:00.14 | Mem:0.00M, Peak:0.00M | Scene, View Layer | Synchronizing object | Sphere_3\n",
            "Fra:1 Mem:45.09M (Peak 66.83M) | Time:00:00.14 | Mem:0.00M, Peak:0.00M | Scene, View Layer | Synchronizing object | Sphere_7\n",
            "Fra:1 Mem:45.14M (Peak 66.83M) | Time:00:00.14 | Mem:0.00M, Peak:0.00M | Scene, View Layer | Synchronizing object | Cube_0\n",
            "Fra:1 Mem:45.62M (Peak 66.83M) | Time:00:00.14 | Mem:0.00M, Peak:0.00M | Scene, View Layer | Synchronizing object | Sphere_6\n",
            "Fra:1 Mem:45.67M (Peak 66.83M) | Time:00:00.14 | Mem:0.00M, Peak:0.00M | Scene, View Layer | Synchronizing object | Pyramid_0\n",
            "Fra:1 Mem:48.11M (Peak 66.83M) | Time:00:00.14 | Mem:0.00M, Peak:0.00M | Scene, View Layer | Synchronizing object | Cube_1\n",
            "Fra:1 Mem:49.56M (Peak 66.83M) | Time:00:00.14 | Mem:0.00M, Peak:0.00M | Scene, View Layer | Synchronizing object | Sphere_5\n",
            "Fra:1 Mem:49.61M (Peak 66.83M) | Time:00:00.14 | Mem:0.00M, Peak:0.00M | Scene, View Layer | Synchronizing object | Cube_2\n",
            "Fra:1 Mem:51.07M (Peak 66.83M) | Time:00:00.15 | Mem:0.00M, Peak:0.00M | Scene, View Layer | Synchronizing object | Sphere_4\n",
            "Fra:1 Mem:51.11M (Peak 66.83M) | Time:00:00.15 | Mem:0.00M, Peak:0.00M | Scene, View Layer | Initializing\n",
            "Fra:1 Mem:37.89M (Peak 66.83M) | Time:00:00.15 | Mem:0.00M, Peak:0.00M | Scene, View Layer | Waiting for render to start\n",
            "Fra:1 Mem:37.89M (Peak 66.83M) | Time:00:00.15 | Mem:0.00M, Peak:0.00M | Scene, View Layer | Loading render kernels (may take a few minutes the first time)\n",
            "Fra:1 Mem:37.89M (Peak 66.83M) | Time:00:00.15 | Mem:0.00M, Peak:0.00M | Scene, View Layer | Updating Scene\n",
            "Fra:1 Mem:37.89M (Peak 66.83M) | Time:00:00.15 | Mem:0.00M, Peak:0.00M | Scene, View Layer | Updating Shaders\n",
            "Fra:1 Mem:38.39M (Peak 66.83M) | Time:00:00.29 | Mem:0.00M, Peak:0.00M | Scene, View Layer | Updating Procedurals\n",
            "Fra:1 Mem:38.39M (Peak 66.83M) | Time:00:00.29 | Mem:0.00M, Peak:0.00M | Scene, View Layer | Updating Background\n",
            "Fra:1 Mem:38.39M (Peak 66.83M) | Time:00:00.29 | Mem:0.00M, Peak:0.00M | Scene, View Layer | Updating Camera\n",
            "Fra:1 Mem:38.39M (Peak 66.83M) | Time:00:00.29 | Mem:0.00M, Peak:0.00M | Scene, View Layer | Updating Meshes Flags\n",
            "Fra:1 Mem:38.39M (Peak 66.83M) | Time:00:00.29 | Mem:0.00M, Peak:0.00M | Scene, View Layer | Updating Objects\n",
            "Fra:1 Mem:38.39M (Peak 66.83M) | Time:00:00.29 | Mem:0.00M, Peak:0.00M | Scene, View Layer | Updating Objects | Copying Transformations to device\n",
            "Fra:1 Mem:38.40M (Peak 66.83M) | Time:00:00.29 | Mem:0.01M, Peak:0.01M | Scene, View Layer | Updating Objects | Applying Static Transformations\n",
            "Fra:1 Mem:38.40M (Peak 66.83M) | Time:00:00.29 | Mem:0.01M, Peak:0.01M | Scene, View Layer | Updating Particle Systems\n",
            "Fra:1 Mem:38.40M (Peak 66.83M) | Time:00:00.29 | Mem:0.01M, Peak:0.01M | Scene, View Layer | Updating Particle Systems | Copying Particles to device\n",
            "Fra:1 Mem:38.40M (Peak 66.83M) | Time:00:00.29 | Mem:0.01M, Peak:0.01M | Scene, View Layer | Updating Meshes\n",
            "Fra:1 Mem:40.46M (Peak 66.83M) | Time:00:00.30 | Mem:0.01M, Peak:0.01M | Scene, View Layer | Updating Mesh | Computing attributes\n",
            "Fra:1 Mem:40.47M (Peak 66.83M) | Time:00:00.30 | Mem:0.01M, Peak:0.01M | Scene, View Layer | Updating Mesh | Copying Attributes to device\n",
            "Fra:1 Mem:40.46M (Peak 66.83M) | Time:00:00.30 | Mem:0.01M, Peak:0.01M | Scene, View Layer | Updating Scene BVH | Building\n",
            "Fra:1 Mem:40.46M (Peak 66.83M) | Time:00:00.30 | Mem:0.01M, Peak:0.01M | Scene, View Layer | Updating Scene BVH | Building BVH\n",
            "Fra:1 Mem:40.46M (Peak 66.83M) | Time:00:00.30 | Mem:10.33M, Peak:10.33M | Scene, View Layer | Updating Scene BVH | Building BVH 0%\n",
            "Fra:1 Mem:40.46M (Peak 66.83M) | Time:00:00.36 | Mem:6.75M, Peak:14.75M | Scene, View Layer | Updating Scene BVH | Packing BVH primitives\n",
            "Fra:1 Mem:49.25M (Peak 66.83M) | Time:00:00.36 | Mem:6.75M, Peak:14.75M | Scene, View Layer | Updating Scene BVH | Copying BVH to device\n",
            "Fra:1 Mem:49.76M (Peak 66.83M) | Time:00:00.36 | Mem:15.53M, Peak:15.53M | Scene, View Layer | Updating Mesh | Computing normals\n",
            "Fra:1 Mem:54.41M (Peak 66.83M) | Time:00:00.36 | Mem:15.53M, Peak:15.53M | Scene, View Layer | Updating Mesh | Copying Mesh to device\n",
            "Fra:1 Mem:53.89M (Peak 66.83M) | Time:00:00.36 | Mem:20.18M, Peak:20.18M | Scene, View Layer | Updating Objects Flags\n",
            "Fra:1 Mem:53.89M (Peak 66.83M) | Time:00:00.36 | Mem:20.18M, Peak:20.18M | Scene, View Layer | Updating Images\n",
            "Fra:1 Mem:53.89M (Peak 66.83M) | Time:00:00.36 | Mem:20.18M, Peak:20.18M | Scene, View Layer | Updating Camera Volume\n",
            "Fra:1 Mem:53.89M (Peak 66.83M) | Time:00:00.36 | Mem:20.18M, Peak:20.18M | Scene, View Layer | Updating Lookup Tables\n",
            "Fra:1 Mem:53.89M (Peak 66.83M) | Time:00:00.36 | Mem:20.43M, Peak:20.43M | Scene, View Layer | Updating Lights\n",
            "Fra:1 Mem:53.89M (Peak 66.83M) | Time:00:00.36 | Mem:20.43M, Peak:20.43M | Scene, View Layer | Updating Lights | Computing distribution\n",
            "Fra:1 Mem:55.96M (Peak 66.83M) | Time:00:00.37 | Mem:22.50M, Peak:22.50M | Scene, View Layer | Updating Integrator\n",
            "Fra:1 Mem:57.24M (Peak 66.83M) | Time:00:00.38 | Mem:23.77M, Peak:23.77M | Scene, View Layer | Updating Film\n",
            "Fra:1 Mem:57.24M (Peak 66.83M) | Time:00:00.38 | Mem:23.52M, Peak:23.77M | Scene, View Layer | Updating Lookup Tables\n",
            "Fra:1 Mem:57.24M (Peak 66.83M) | Time:00:00.38 | Mem:23.78M, Peak:23.78M | Scene, View Layer | Updating Baking\n",
            "Fra:1 Mem:57.24M (Peak 66.83M) | Time:00:00.38 | Mem:23.78M, Peak:23.78M | Scene, View Layer | Updating Device | Writing constant memory\n",
            "Fra:1 Mem:57.24M (Peak 66.83M) | Time:00:00.38 | Mem:23.78M, Peak:23.78M | Scene, View Layer | Updating Device | Writing constant memory | Compiling render kernels\n",
            "Fra:1 Mem:57.24M (Peak 66.83M) | Time:00:00.38 | Mem:23.78M, Peak:23.78M | Scene, View Layer | Updating Device | Writing constant memory\n",
            "Fra:1 Mem:57.24M (Peak 66.83M) | Time:00:00.38 | Mem:23.78M, Peak:23.78M | Scene, View Layer | Rendered 0/12 Tiles\n",
            "Fra:1 Mem:59.25M (Peak 66.83M) | Time:00:00.40 | Remaining:00:00.22 | Mem:25.78M, Peak:27.78M | Scene, View Layer | Rendered 1/12 Tiles\n",
            "Fra:1 Mem:59.25M (Peak 66.83M) | Time:00:00.41 | Remaining:00:00.11 | Mem:25.78M, Peak:27.78M | Scene, View Layer | Rendered 2/12 Tiles\n",
            "Fra:1 Mem:59.25M (Peak 66.83M) | Time:00:00.42 | Remaining:00:00.12 | Mem:25.78M, Peak:27.78M | Scene, View Layer | Rendered 3/12 Tiles\n",
            "Fra:1 Mem:59.25M (Peak 66.83M) | Time:00:00.43 | Remaining:00:00.08 | Mem:25.78M, Peak:27.78M | Scene, View Layer | Rendered 4/12 Tiles\n",
            "Fra:1 Mem:59.25M (Peak 66.83M) | Time:00:00.45 | Remaining:00:00.08 | Mem:25.78M, Peak:27.78M | Scene, View Layer | Rendered 5/12 Tiles\n",
            "Fra:1 Mem:59.25M (Peak 66.83M) | Time:00:00.45 | Remaining:00:00.05 | Mem:25.78M, Peak:27.78M | Scene, View Layer | Rendered 6/12 Tiles\n",
            "Fra:1 Mem:59.25M (Peak 66.83M) | Time:00:00.47 | Remaining:00:00.05 | Mem:25.78M, Peak:27.78M | Scene, View Layer | Rendered 7/12 Tiles\n",
            "Fra:1 Mem:58.87M (Peak 66.83M) | Time:00:00.47 | Remaining:00:00.03 | Mem:25.41M, Peak:27.78M | Scene, View Layer | Rendered 8/12 Tiles\n",
            "Fra:1 Mem:58.87M (Peak 66.83M) | Time:00:00.49 | Remaining:00:00.02 | Mem:25.41M, Peak:27.78M | Scene, View Layer | Rendered 9/12 Tiles\n",
            "Fra:1 Mem:58.87M (Peak 66.83M) | Time:00:00.49 | Remaining:00:00.01 | Mem:25.41M, Peak:27.78M | Scene, View Layer | Rendered 10/12 Tiles\n",
            "Fra:1 Mem:58.87M (Peak 66.83M) | Time:00:00.50 | Mem:25.41M, Peak:27.78M | Scene, View Layer | Rendered 11/12 Tiles, Sample 1/1\n",
            "Fra:1 Mem:57.25M (Peak 66.83M) | Time:00:00.50 | Mem:23.78M, Peak:27.78M | Scene, View Layer | Rendered 12/12 Tiles\n",
            "Fra:1 Mem:57.24M (Peak 66.83M) | Time:00:00.50 | Mem:23.78M, Peak:27.78M | Scene, View Layer | Finished\n",
            "Fra:1 Mem:33.88M (Peak 66.83M) | Time:00:00.51 | Compositing\n",
            "Fra:1 Mem:33.88M (Peak 66.83M) | Time:00:00.51 | Compositing | Determining resolution\n",
            "Fra:1 Mem:33.88M (Peak 66.83M) | Time:00:00.51 | Compositing | Initializing execution\n",
            "Fra:1 Mem:47.12M (Peak 66.83M) | Time:00:00.51 | Compositing | Tile 1-12\n",
            "Fra:1 Mem:47.12M (Peak 66.83M) | Time:00:00.51 | Compositing | Tile 2-12\n",
            "Fra:1 Mem:47.12M (Peak 66.83M) | Time:00:00.51 | Compositing | Tile 3-12\n",
            "Fra:1 Mem:47.12M (Peak 66.83M) | Time:00:00.51 | Compositing | Tile 4-12\n",
            "Fra:1 Mem:47.12M (Peak 66.83M) | Time:00:00.51 | Compositing | Tile 5-12\n",
            "Fra:1 Mem:47.12M (Peak 66.83M) | Time:00:00.52 | Compositing | Tile 6-12\n",
            "Fra:1 Mem:47.12M (Peak 66.83M) | Time:00:00.52 | Compositing | Tile 7-12\n",
            "Fra:1 Mem:47.12M (Peak 66.83M) | Time:00:00.52 | Compositing | Tile 8-12\n",
            "Fra:1 Mem:47.12M (Peak 66.83M) | Time:00:00.52 | Compositing | Tile 9-12\n",
            "Fra:1 Mem:47.12M (Peak 66.83M) | Time:00:00.52 | Compositing | Tile 10-12\n",
            "Fra:1 Mem:47.12M (Peak 66.83M) | Time:00:00.52 | Compositing | Tile 11-12\n",
            "Fra:1 Mem:47.12M (Peak 66.83M) | Time:00:00.53 | Compositing | Tile 12-12\n",
            "Fra:1 Mem:47.06M (Peak 66.83M) | Time:00:00.53 | Compositing | De-initializing execution\n",
            "Saved: '/tmp/tmp_nw57cb1.png'\n",
            " Time: 00:00.96 (Saving: 00:00.42)\n",
            "\n",
            "Fra:1 Mem:88.54M (Peak 88.54M) | Time:00:00.14 | Mem:0.00M, Peak:0.00M | Scene, View Layer | Synchronizing object | Plane\n",
            "Fra:1 Mem:88.56M (Peak 88.56M) | Time:00:00.14 | Mem:0.00M, Peak:0.00M | Scene, View Layer | Synchronizing object | Sphere_10\n",
            "Fra:1 Mem:88.58M (Peak 88.58M) | Time:00:00.14 | Mem:0.00M, Peak:0.00M | Scene, View Layer | Synchronizing object | Ground\n",
            "Fra:1 Mem:88.62M (Peak 88.62M) | Time:00:00.14 | Mem:0.00M, Peak:0.00M | Scene, View Layer | Synchronizing object | Sphere_0\n",
            "Fra:1 Mem:88.67M (Peak 88.68M) | Time:00:00.14 | Mem:0.00M, Peak:0.00M | Scene, View Layer | Synchronizing object | Sphere_9\n",
            "Fra:1 Mem:88.73M (Peak 88.73M) | Time:00:00.14 | Mem:0.00M, Peak:0.00M | Scene, View Layer | Synchronizing object | Sphere_1\n",
            "Fra:1 Mem:88.78M (Peak 88.79M) | Time:00:00.14 | Mem:0.00M, Peak:0.00M | Scene, View Layer | Synchronizing object | Sphere_8\n",
            "Fra:1 Mem:88.83M (Peak 88.84M) | Time:00:00.14 | Mem:0.00M, Peak:0.00M | Scene, View Layer | Synchronizing object | Sphere_2\n",
            "Fra:1 Mem:88.88M (Peak 88.89M) | Time:00:00.14 | Mem:0.00M, Peak:0.00M | Scene, View Layer | Synchronizing object | Sphere_7\n",
            "Fra:1 Mem:88.94M (Peak 88.94M) | Time:00:00.14 | Mem:0.00M, Peak:0.00M | Scene, View Layer | Synchronizing object | Sphere_3\n",
            "Fra:1 Mem:88.98M (Peak 88.99M) | Time:00:00.14 | Mem:0.00M, Peak:0.00M | Scene, View Layer | Synchronizing object | Sphere_6\n",
            "Fra:1 Mem:89.04M (Peak 89.05M) | Time:00:00.14 | Mem:0.00M, Peak:0.00M | Scene, View Layer | Synchronizing object | Cube_0\n",
            "Fra:1 Mem:89.52M (Peak 89.52M) | Time:00:00.14 | Mem:0.00M, Peak:0.00M | Scene, View Layer | Synchronizing object | Pyramid_0\n",
            "Fra:1 Mem:92.43M (Peak 92.67M) | Time:00:00.15 | Mem:0.00M, Peak:0.00M | Scene, View Layer | Synchronizing object | Sphere_5\n",
            "Fra:1 Mem:92.49M (Peak 92.67M) | Time:00:00.15 | Mem:0.00M, Peak:0.00M | Scene, View Layer | Synchronizing object | Cube_2\n",
            "Fra:1 Mem:93.94M (Peak 94.18M) | Time:00:00.15 | Mem:0.00M, Peak:0.00M | Scene, View Layer | Synchronizing object | Cube_1\n",
            "Fra:1 Mem:95.88M (Peak 96.12M) | Time:00:00.15 | Mem:0.00M, Peak:0.00M | Scene, View Layer | Synchronizing object | Sphere_4\n",
            "Fra:1 Mem:95.93M (Peak 96.17M) | Time:00:00.15 | Mem:0.00M, Peak:0.00M | Scene, View Layer | Initializing\n",
            "Fra:1 Mem:82.26M (Peak 96.17M) | Time:00:00.16 | Mem:0.00M, Peak:0.00M | Scene, View Layer | Waiting for render to start\n",
            "Fra:1 Mem:82.26M (Peak 96.17M) | Time:00:00.16 | Mem:0.00M, Peak:0.00M | Scene, View Layer | Loading render kernels (may take a few minutes the first time)\n",
            "Fra:1 Mem:82.26M (Peak 96.17M) | Time:00:00.16 | Mem:0.00M, Peak:0.00M | Scene, View Layer | Updating Scene\n",
            "Fra:1 Mem:82.26M (Peak 96.17M) | Time:00:00.16 | Mem:0.00M, Peak:0.00M | Scene, View Layer | Updating Shaders\n",
            "Fra:1 Mem:82.99M (Peak 96.17M) | Time:00:00.62 | Mem:0.48M, Peak:0.48M | Scene, View Layer | Updating Procedurals\n",
            "Fra:1 Mem:82.99M (Peak 96.17M) | Time:00:00.62 | Mem:0.48M, Peak:0.48M | Scene, View Layer | Updating Background\n",
            "Fra:1 Mem:82.99M (Peak 96.17M) | Time:00:00.62 | Mem:0.48M, Peak:0.48M | Scene, View Layer | Updating Camera\n",
            "Fra:1 Mem:82.99M (Peak 96.17M) | Time:00:00.62 | Mem:0.48M, Peak:0.48M | Scene, View Layer | Updating Meshes Flags\n",
            "Fra:1 Mem:82.99M (Peak 96.17M) | Time:00:00.62 | Mem:0.48M, Peak:0.48M | Scene, View Layer | Updating Objects\n",
            "Fra:1 Mem:82.99M (Peak 96.17M) | Time:00:00.62 | Mem:0.48M, Peak:0.48M | Scene, View Layer | Updating Objects | Copying Transformations to device\n",
            "Fra:1 Mem:83.00M (Peak 96.17M) | Time:00:00.62 | Mem:0.49M, Peak:0.49M | Scene, View Layer | Updating Objects | Applying Static Transformations\n",
            "Fra:1 Mem:83.00M (Peak 96.17M) | Time:00:00.62 | Mem:0.49M, Peak:0.49M | Scene, View Layer | Updating Particle Systems\n",
            "Fra:1 Mem:83.00M (Peak 96.17M) | Time:00:00.62 | Mem:0.49M, Peak:0.49M | Scene, View Layer | Updating Particle Systems | Copying Particles to device\n",
            "Fra:1 Mem:83.00M (Peak 96.17M) | Time:00:00.62 | Mem:0.49M, Peak:0.49M | Scene, View Layer | Updating Meshes\n",
            "Fra:1 Mem:85.07M (Peak 96.17M) | Time:00:00.63 | Mem:0.49M, Peak:0.49M | Scene, View Layer | Updating Mesh | Computing attributes\n",
            "Fra:1 Mem:86.11M (Peak 96.17M) | Time:00:00.63 | Mem:0.49M, Peak:0.49M | Scene, View Layer | Updating Mesh | Copying Attributes to device\n",
            "Fra:1 Mem:86.11M (Peak 96.17M) | Time:00:00.63 | Mem:1.53M, Peak:1.53M | Scene, View Layer | Updating Scene BVH | Building\n",
            "Fra:1 Mem:86.11M (Peak 96.17M) | Time:00:00.63 | Mem:1.53M, Peak:1.53M | Scene, View Layer | Updating Scene BVH | Building BVH\n",
            "Fra:1 Mem:86.11M (Peak 96.17M) | Time:00:00.63 | Mem:11.86M, Peak:11.86M | Scene, View Layer | Updating Scene BVH | Building BVH 0%\n",
            "Fra:1 Mem:86.11M (Peak 96.17M) | Time:00:00.68 | Mem:8.29M, Peak:16.29M | Scene, View Layer | Updating Scene BVH | Packing BVH primitives\n",
            "Fra:1 Mem:94.92M (Peak 96.17M) | Time:00:00.68 | Mem:8.29M, Peak:16.29M | Scene, View Layer | Updating Scene BVH | Copying BVH to device\n",
            "Fra:1 Mem:95.44M (Peak 96.17M) | Time:00:00.68 | Mem:17.10M, Peak:17.10M | Scene, View Layer | Updating Mesh | Computing normals\n",
            "Fra:1 Mem:100.10M (Peak 100.10M) | Time:00:00.68 | Mem:17.10M, Peak:17.10M | Scene, View Layer | Updating Mesh | Copying Mesh to device\n",
            "Fra:1 Mem:99.58M (Peak 100.10M) | Time:00:00.68 | Mem:21.76M, Peak:21.76M | Scene, View Layer | Updating Objects Flags\n",
            "Fra:1 Mem:99.58M (Peak 100.10M) | Time:00:00.68 | Mem:21.76M, Peak:21.76M | Scene, View Layer | Updating Images\n",
            "Fra:1 Mem:99.58M (Peak 100.10M) | Time:00:00.68 | Mem:21.76M, Peak:21.76M | Scene, View Layer | Updating Images | Loading blender_train5_035002.png\n",
            "Fra:1 Mem:100.10M (Peak 100.10M) | Time:00:00.68 | Mem:21.76M, Peak:21.76M | Scene, View Layer | Updating Images | Loading 2d_train5_035002.png\n",
            "Fra:1 Mem:100.63M (Peak 100.63M) | Time:00:00.69 | Mem:22.80M, Peak:22.80M | Scene, View Layer | Updating Camera Volume\n",
            "Fra:1 Mem:100.63M (Peak 100.63M) | Time:00:00.69 | Mem:22.80M, Peak:22.80M | Scene, View Layer | Updating Lookup Tables\n",
            "Fra:1 Mem:100.63M (Peak 100.63M) | Time:00:00.69 | Mem:23.05M, Peak:23.05M | Scene, View Layer | Updating Lights\n",
            "Fra:1 Mem:100.63M (Peak 100.63M) | Time:00:00.69 | Mem:23.05M, Peak:23.05M | Scene, View Layer | Updating Lights | Computing distribution\n",
            "Fra:1 Mem:100.63M (Peak 100.63M) | Time:00:00.69 | Mem:23.05M, Peak:23.05M | Scene, View Layer | Updating Integrator\n",
            "Fra:1 Mem:102.13M (Peak 102.13M) | Time:00:00.73 | Mem:24.55M, Peak:24.55M | Scene, View Layer | Updating Film\n",
            "Fra:1 Mem:102.14M (Peak 102.39M) | Time:00:00.73 | Mem:24.30M, Peak:24.55M | Scene, View Layer | Updating Lookup Tables\n",
            "Fra:1 Mem:102.14M (Peak 102.39M) | Time:00:00.73 | Mem:24.56M, Peak:24.56M | Scene, View Layer | Updating Baking\n",
            "Fra:1 Mem:102.14M (Peak 102.39M) | Time:00:00.73 | Mem:24.56M, Peak:24.56M | Scene, View Layer | Updating Device | Writing constant memory\n",
            "Fra:1 Mem:102.14M (Peak 102.39M) | Time:00:00.73 | Mem:24.56M, Peak:24.56M | Scene, View Layer | Updating Device | Writing constant memory | Compiling render kernels\n",
            "Fra:1 Mem:102.14M (Peak 102.39M) | Time:00:00.73 | Mem:24.56M, Peak:24.56M | Scene, View Layer | Updating Device | Writing constant memory\n",
            "Fra:1 Mem:102.14M (Peak 102.39M) | Time:00:00.73 | Mem:24.56M, Peak:24.56M | Scene, View Layer | Rendered 0/12 Tiles, Prefiltered 0 tiles\n",
            "Fra:1 Mem:128.14M (Peak 134.40M) | Time:00:46.09 | Remaining:04:44.94 | Mem:50.57M, Peak:50.57M | Scene, View Layer | Rendered 1/12 Tiles, Prefiltered 0 tiles\n",
            "Fra:1 Mem:141.14M (Peak 147.40M) | Time:00:55.65 | Remaining:03:45.68 | Mem:63.57M, Peak:63.57M | Scene, View Layer | Rendered 2/12 Tiles, Prefiltered 0 tiles\n",
            "Fra:1 Mem:150.89M (Peak 157.15M) | Time:01:37.68 | Remaining:03:00.15 | Mem:73.32M, Peak:73.32M | Scene, View Layer | Rendered 3/12 Tiles, Prefiltered 0 tiles\n",
            "Fra:1 Mem:163.89M (Peak 170.15M) | Time:01:37.97 | Remaining:02:56.63 | Mem:86.32M, Peak:86.32M | Scene, View Layer | Rendered 4/12 Tiles, Prefiltered 0 tiles\n",
            "Fra:1 Mem:176.90M (Peak 183.15M) | Time:02:24.76 | Remaining:02:36.96 | Mem:99.32M, Peak:99.32M | Scene, View Layer | Rendered 5/12 Tiles, Prefiltered 0 tiles\n",
            "Fra:1 Mem:189.90M (Peak 196.15M) | Time:02:36.36 | Remaining:02:06.83 | Mem:112.32M, Peak:112.32M | Scene, View Layer | Rendered 6/12 Tiles, Prefiltered 0 tiles\n",
            "Fra:1 Mem:194.68M (Peak 202.53M) | Time:02:38.54 | Remaining:02:07.84 | Mem:117.11M, Peak:118.70M | Scene, View Layer | Rendered 6/12 Tiles, Prefiltered 1 tiles\n",
            "Fra:1 Mem:204.43M (Peak 210.68M) | Time:03:26.35 | Remaining:01:39.76 | Mem:126.86M, Peak:126.86M | Scene, View Layer | Rendered 7/12 Tiles, Prefiltered 1 tiles\n",
            "Fra:1 Mem:209.36M (Peak 215.70M) | Time:03:28.52 | Remaining:01:39.21 | Mem:131.79M, Peak:133.43M | Scene, View Layer | Rendered 7/12 Tiles, Prefiltered 2 tiles\n",
            "Fra:1 Mem:219.93M (Peak 225.01M) | Time:03:38.91 | Remaining:01:26.11 | Mem:142.35M, Peak:142.35M | Scene, View Layer | Rendered 8/12 Tiles, Prefiltered 2 tiles\n",
            "Fra:1 Mem:220.07M (Peak 226.79M) | Time:03:41.13 | Remaining:01:26.26 | Mem:142.50M, Peak:144.14M | Scene, View Layer | Rendered 8/12 Tiles, Prefiltered 3 tiles\n",
            "Fra:1 Mem:219.85M (Peak 226.79M) | Time:03:42.79 | Remaining:01:26.40 | Mem:142.28M, Peak:144.14M | Scene, View Layer | Rendered 8/12 Tiles, Prefiltered 4 tiles\n",
            "Fra:1 Mem:230.42M (Peak 235.50M) | Time:04:31.65 | Remaining:00:48.68 | Mem:152.84M, Peak:152.84M | Scene, View Layer | Rendered 9/12 Tiles, Prefiltered 4 tiles\n",
            "Fra:1 Mem:240.98M (Peak 246.06M) | Time:04:33.26 | Remaining:00:42.55 | Mem:163.41M, Peak:163.41M | Scene, View Layer | Rendered 10/12 Tiles, Prefiltered 4 tiles\n",
            "Fra:1 Mem:240.98M (Peak 247.70M) | Time:04:35.45 | Remaining:00:42.33 | Mem:163.41M, Peak:165.05M | Scene, View Layer | Rendered 10/12 Tiles, Prefiltered 5 tiles\n",
            "Fra:1 Mem:240.81M (Peak 247.70M) | Time:04:37.22 | Remaining:00:42.16 | Mem:163.24M, Peak:165.05M | Scene, View Layer | Rendered 10/12 Tiles, Prefiltered 6 tiles\n",
            "Fra:1 Mem:248.73M (Peak 253.81M) | Time:05:08.57 | Remaining:00:18.27 | Mem:171.16M, Peak:171.16M | Scene, View Layer | Rendered 11/12 Tiles, Sample 512/512, Prefiltered 6 tiles\n",
            "Fra:1 Mem:248.73M (Peak 253.81M) | Time:05:09.46 | Remaining:00:17.91 | Mem:171.16M, Peak:171.16M | Scene, View Layer | Rendered 11/12 Tiles, Sample 153/512, Prefiltered 6 tiles\n",
            "Fra:1 Mem:248.73M (Peak 253.81M) | Time:05:10.54 | Remaining:00:17.50 | Mem:171.16M, Peak:171.16M | Scene, View Layer | Rendered 11/12 Tiles, Sample 162/512, Prefiltered 6 tiles\n",
            "Fra:1 Mem:248.73M (Peak 253.81M) | Time:05:11.62 | Remaining:00:17.04 | Mem:171.16M, Peak:171.16M | Scene, View Layer | Rendered 11/12 Tiles, Sample 172/512, Prefiltered 6 tiles\n",
            "Fra:1 Mem:248.73M (Peak 253.81M) | Time:05:12.64 | Remaining:00:16.52 | Mem:171.16M, Peak:171.16M | Scene, View Layer | Rendered 11/12 Tiles, Sample 183/512, Prefiltered 6 tiles\n",
            "Fra:1 Mem:248.73M (Peak 253.81M) | Time:05:13.69 | Remaining:00:15.90 | Mem:171.16M, Peak:171.16M | Scene, View Layer | Rendered 11/12 Tiles, Sample 196/512, Prefiltered 6 tiles\n",
            "Fra:1 Mem:248.73M (Peak 253.81M) | Time:05:14.73 | Remaining:00:15.07 | Mem:171.16M, Peak:171.16M | Scene, View Layer | Rendered 11/12 Tiles, Sample 213/512, Prefiltered 6 tiles\n",
            "Fra:1 Mem:248.73M (Peak 253.81M) | Time:05:15.75 | Remaining:00:13.88 | Mem:171.16M, Peak:171.16M | Scene, View Layer | Rendered 11/12 Tiles, Sample 237/512, Prefiltered 6 tiles\n",
            "Fra:1 Mem:248.73M (Peak 253.81M) | Time:05:16.75 | Remaining:00:11.87 | Mem:171.16M, Peak:171.16M | Scene, View Layer | Rendered 11/12 Tiles, Sample 277/512, Prefiltered 6 tiles\n",
            "Fra:1 Mem:248.73M (Peak 253.81M) | Time:05:17.75 | Remaining:00:06.81 | Mem:171.16M, Peak:171.16M | Scene, View Layer | Rendered 11/12 Tiles, Sample 378/512, Prefiltered 6 tiles\n",
            "Fra:1 Mem:248.73M (Peak 253.81M) | Time:05:18.32 | Remaining:00:00.29 | Mem:171.16M, Peak:171.16M | Scene, View Layer | Rendered 12/12 Tiles, Prefiltered 6 tiles\n",
            "Fra:1 Mem:236.42M (Peak 254.67M) | Time:05:20.70 | Remaining:00:00.23 | Mem:158.84M, Peak:175.23M | Scene, View Layer | Rendered 12/12 Tiles, Prefiltered 7 tiles\n",
            "Fra:1 Mem:223.19M (Peak 254.67M) | Time:05:20.75 | Remaining:00:00.17 | Mem:145.62M, Peak:175.23M | Scene, View Layer | Rendered 12/12 Tiles, Prefiltered 8 tiles\n",
            "Fra:1 Mem:201.61M (Peak 254.67M) | Time:05:22.42 | Remaining:00:00.13 | Mem:124.04M, Peak:175.23M | Scene, View Layer | Rendered 12/12 Tiles, Prefiltered 9 tiles\n",
            "Fra:1 Mem:176.75M (Peak 254.67M) | Time:05:22.66 | Remaining:00:00.08 | Mem:99.18M, Peak:175.23M | Scene, View Layer | Rendered 12/12 Tiles, Prefiltered 10 tiles\n",
            "Fra:1 Mem:177.92M (Peak 254.67M) | Time:05:24.04 | Remaining:00:00.04 | Mem:100.35M, Peak:175.23M | Scene, View Layer | Rendered 12/12 Tiles, Prefiltered 11 tiles\n",
            "Fra:1 Mem:111.78M (Peak 254.67M) | Time:05:24.18 | Mem:34.21M, Peak:175.23M | Scene, View Layer | Rendered 12/12 Tiles, Prefiltered 12 tiles\n",
            "Fra:1 Mem:102.14M (Peak 254.67M) | Time:05:24.18 | Mem:24.57M, Peak:175.23M | Scene, View Layer | Finished\n",
            "Fra:1 Mem:76.33M (Peak 254.67M) | Time:05:24.18 | Compositing\n",
            "Fra:1 Mem:76.33M (Peak 254.67M) | Time:05:24.18 | Compositing | Determining resolution\n",
            "Fra:1 Mem:76.33M (Peak 254.67M) | Time:05:24.18 | Compositing | Initializing execution\n",
            "Fra:1 Mem:139.68M (Peak 254.67M) | Time:05:28.76 | Compositing | Tile 1-12\n",
            "Fra:1 Mem:139.68M (Peak 254.67M) | Time:05:28.76 | Compositing | Tile 2-12\n",
            "Fra:1 Mem:139.68M (Peak 254.67M) | Time:05:28.76 | Compositing | Tile 3-12\n",
            "Fra:1 Mem:139.68M (Peak 254.67M) | Time:05:28.77 | Compositing | Tile 4-12\n",
            "Fra:1 Mem:139.68M (Peak 254.67M) Fra:1 Mem:139.68M (Peak 254.67M) | Time:05:28.77 | Compositing | Tile 6-12\n",
            "| Time:05:28.77 | Compositing | Tile 5-12\n",
            "Fra:1 Mem:139.68M (Peak 254.67M) | Time:05:28.77 | Compositing | Tile 7-12\n",
            "Fra:1 Mem:139.68M (Peak 254.67M) | Time:05:28.78 | Compositing | Tile 8-12\n",
            "Fra:1 Mem:139.68M (Peak 254.67M) | Time:05:28.78 | Compositing | Tile 9-12\n",
            "Fra:1 Mem:139.68M (Peak 254.67M) | Time:05:28.78 | Compositing | Tile 10-12\n",
            "Fra:1 Mem:139.68M (Peak 254.67M) | Time:05:28.78 | Compositing | Tile 11-12\n",
            "Fra:1 Mem:139.68M (Peak 254.67M) | Time:05:28.78 | Compositing | Tile 12-12\n",
            "Fra:1 Mem:139.61M (Peak 254.67M) | Time:05:28.78 | Compositing | De-initializing execution\n",
            "Saved: './output/3d_scene/train5/images/3d_train5_035002.png'\n",
            " Time: 05:28.97 (Saving: 00:00.18)\n",
            "\n",
            "Save picture and json file 35002\n",
            "*************************************************************************************\n",
            "\n",
            "Blender quit\n"
          ]
        }
      ]
    }
  ]
}